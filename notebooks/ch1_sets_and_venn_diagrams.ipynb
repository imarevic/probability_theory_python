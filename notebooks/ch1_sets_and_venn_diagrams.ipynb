{
 "cells": [
  {
   "cell_type": "markdown",
   "id": "60666f71",
   "metadata": {},
   "source": [
    "## Sets and Venn Diagrams"
   ]
  },
  {
   "cell_type": "markdown",
   "id": "863b063a",
   "metadata": {},
   "source": [
    "In probability theory the outcomes that we measure and tha we would like to assign probabilities to are in fact a collection of outcomes that form a set. For example if a drug has the desired effect 99% of the time, then this probability of 0.9 was derived from careful experimentation where a lot of participants participated and the drug was either *successful* or a *failure*. So the outcomes of such an experiment form a set: \n",
    "\n",
    "$$ S_{drug-outcomes} = \\{success, failure, success, success, failure, etc.\\} $$ \n",
    "\n",
    "Similarly, the outcomes of a coin-tossing experiment form a set of outcomes (heads (H) vs. tails (T)): \n",
    "\n",
    "$$ S_{coin-tossing} = \\{H, T, T, H, etc.\\} $$ \n",
    "\n",
    "Thus, in probability theory we need to work with sets and in the following, the basic principles of *set theory* will be outlined."
   ]
  },
  {
   "cell_type": "markdown",
   "id": "4a0a0f2c",
   "metadata": {},
   "source": [
    "#### Set definition"
   ]
  },
  {
   "cell_type": "markdown",
   "id": "33b542a2",
   "metadata": {},
   "source": [
    "A set is a collection of elements. If an element $x$ is part of a set $S$, we write $ x \\in S $. If $x$ is not an element we write $ x \\notin S $. A set can also be empty: $S=\\emptyset$.\n",
    "\n",
    "If a set contains a finite number of elements, we can write it as follows:\n",
    "\n",
    "$$S = \\{x_{1}, x_{2}, x_{3}, ..., x_{n}\\}$$\n",
    "\n",
    "If it contains an infinite number of elements we can write:\n",
    "\n",
    "$$S = \\{x_{1}, x_{2}, x_{3}, ...\\}$$\n",
    "\n",
    "If we want to add a condition on which certain elements are part of a set we can specifiy this like so:\n",
    "\n",
    "$$S = \\{x | x\\ satisfies\\ P\\}$$\n"
   ]
  },
  {
   "cell_type": "markdown",
   "id": "155da018",
   "metadata": {},
   "source": [
    "In Python sets are defined either via the `set()` command or via `{}`:"
   ]
  },
  {
   "cell_type": "code",
   "execution_count": 1,
   "id": "d80467cc",
   "metadata": {},
   "outputs": [
    {
     "data": {
      "text/plain": [
       "{1, 2, 3, 4, 5}"
      ]
     },
     "execution_count": 1,
     "metadata": {},
     "output_type": "execute_result"
    }
   ],
   "source": [
    "s_1 = set([1,2,3,4,5])\n",
    "s_1"
   ]
  },
  {
   "cell_type": "code",
   "execution_count": 2,
   "id": "cba33be6",
   "metadata": {},
   "outputs": [
    {
     "data": {
      "text/plain": [
       "{1, 2, 3, 4, 5}"
      ]
     },
     "execution_count": 2,
     "metadata": {},
     "output_type": "execute_result"
    }
   ],
   "source": [
    "s_2 = {1,2,3,4,5}\n",
    "s_2"
   ]
  },
  {
   "cell_type": "markdown",
   "id": "71266c71",
   "metadata": {},
   "source": [
    "Note that the `set()` command expects an itarable object, e.g. a list `[]` or a tuple `()`, whereas the definition via curly braces `{}` can be used with comma separated immutable entries. Immutable means that an element of a set cannot be an iterable obejct itself, such as a list or a dictionary. For illustration consider the following error that is thrown:"
   ]
  },
  {
   "cell_type": "code",
   "execution_count": 3,
   "id": "0dab009a",
   "metadata": {},
   "outputs": [
    {
     "ename": "TypeError",
     "evalue": "unhashable type: 'list'",
     "output_type": "error",
     "traceback": [
      "\u001b[0;31m---------------------------------------------------------------------------\u001b[0m",
      "\u001b[0;31mTypeError\u001b[0m                                 Traceback (most recent call last)",
      "\u001b[0;32m<ipython-input-3-e36c01e5b409>\u001b[0m in \u001b[0;36m<module>\u001b[0;34m\u001b[0m\n\u001b[0;32m----> 1\u001b[0;31m \u001b[0ms_incorrect\u001b[0m \u001b[0;34m=\u001b[0m \u001b[0;34m{\u001b[0m\u001b[0;36m1\u001b[0m\u001b[0;34m,\u001b[0m \u001b[0;36m2\u001b[0m\u001b[0;34m,\u001b[0m \u001b[0;34m[\u001b[0m\u001b[0;34m'a'\u001b[0m\u001b[0;34m,\u001b[0m \u001b[0;34m'b'\u001b[0m\u001b[0;34m,\u001b[0m \u001b[0;34m'c'\u001b[0m\u001b[0;34m]\u001b[0m\u001b[0;34m,\u001b[0m \u001b[0;36m3\u001b[0m\u001b[0;34m}\u001b[0m\u001b[0;34m\u001b[0m\u001b[0;34m\u001b[0m\u001b[0m\n\u001b[0m",
      "\u001b[0;31mTypeError\u001b[0m: unhashable type: 'list'"
     ]
    }
   ],
   "source": [
    "s_incorrect = {1, 2, ['a', 'b', 'c'], 3}"
   ]
  },
  {
   "cell_type": "markdown",
   "id": "70b5a9c2",
   "metadata": {},
   "source": [
    "Empy sets can be defined only with `set()` as `{}` is reserved for dictionaries in Python."
   ]
  },
  {
   "cell_type": "code",
   "execution_count": 4,
   "id": "2f46c8ad",
   "metadata": {},
   "outputs": [
    {
     "name": "stdout",
     "output_type": "stream",
     "text": [
      "set()\n",
      "<class 'set'>\n"
     ]
    }
   ],
   "source": [
    "empty_set = set()\n",
    "print(empty_set)\n",
    "print(type(empty_set))"
   ]
  },
  {
   "cell_type": "markdown",
   "id": "d345809e",
   "metadata": {},
   "source": [
    "#### Set comparison"
   ]
  },
  {
   "cell_type": "markdown",
   "id": "e18cdc6a",
   "metadata": {},
   "source": [
    "We can compare different sets in order to find out if sets are equal ($=$), disjoint ($\\dot\\cup$), or if one set is a subset of another ($\\subset$). In Python there are also handy methods to use to check for specific elements in a given set. In the following the different set comparisons are outlined:"
   ]
  },
  {
   "cell_type": "code",
   "execution_count": 5,
   "id": "ca291928",
   "metadata": {},
   "outputs": [],
   "source": [
    "# sets we will use\n",
    "s_1 = {'tiger', 'horse', 'cat'}\n",
    "s_2 = {'tiger', 'horse'}\n",
    "s_3 = {'apple', 'orange', 'banana'}"
   ]
  },
  {
   "cell_type": "markdown",
   "id": "86fd7d14",
   "metadata": {},
   "source": [
    "$S_{1} = S_{2}$:"
   ]
  },
  {
   "cell_type": "code",
   "execution_count": 6,
   "id": "150581d0",
   "metadata": {},
   "outputs": [
    {
     "data": {
      "text/plain": [
       "False"
      ]
     },
     "execution_count": 6,
     "metadata": {},
     "output_type": "execute_result"
    }
   ],
   "source": [
    "s_1 == s_2"
   ]
  },
  {
   "cell_type": "markdown",
   "id": "c711d01a",
   "metadata": {},
   "source": [
    "$S_{1} \\cup S_{2} = \\emptyset$:"
   ]
  },
  {
   "cell_type": "code",
   "execution_count": 7,
   "id": "7b166985",
   "metadata": {},
   "outputs": [
    {
     "data": {
      "text/plain": [
       "False"
      ]
     },
     "execution_count": 7,
     "metadata": {},
     "output_type": "execute_result"
    }
   ],
   "source": [
    "# not disjoint\n",
    "s_1.isdisjoint(s_2)"
   ]
  },
  {
   "cell_type": "code",
   "execution_count": 8,
   "id": "9fd1db78",
   "metadata": {},
   "outputs": [
    {
     "data": {
      "text/plain": [
       "True"
      ]
     },
     "execution_count": 8,
     "metadata": {},
     "output_type": "execute_result"
    }
   ],
   "source": [
    "# are truly disjoint\n",
    "s_1.isdisjoint(s_3)"
   ]
  },
  {
   "cell_type": "markdown",
   "id": "e009450c",
   "metadata": {},
   "source": [
    "$S_{2} \\subset S_{1}$:"
   ]
  },
  {
   "cell_type": "code",
   "execution_count": 9,
   "id": "e6e89e17",
   "metadata": {},
   "outputs": [
    {
     "data": {
      "text/plain": [
       "True"
      ]
     },
     "execution_count": 9,
     "metadata": {},
     "output_type": "execute_result"
    }
   ],
   "source": [
    "s_2.issubset(s_2)"
   ]
  },
  {
   "cell_type": "code",
   "execution_count": 10,
   "id": "dcbe6e07",
   "metadata": {},
   "outputs": [
    {
     "data": {
      "text/plain": [
       "True"
      ]
     },
     "execution_count": 10,
     "metadata": {},
     "output_type": "execute_result"
    }
   ],
   "source": [
    "# or alternative syntax\n",
    "s_2 <= s_1"
   ]
  },
  {
   "cell_type": "markdown",
   "id": "76274436",
   "metadata": {},
   "source": [
    "$S_{1} \\supset S_{2}$ (same as $S_{2} \\subset S_{1}$ just the other way around):"
   ]
  },
  {
   "cell_type": "code",
   "execution_count": 11,
   "id": "bbf1671a",
   "metadata": {},
   "outputs": [
    {
     "data": {
      "text/plain": [
       "True"
      ]
     },
     "execution_count": 11,
     "metadata": {},
     "output_type": "execute_result"
    }
   ],
   "source": [
    "s_1.issuperset(s_2)"
   ]
  },
  {
   "cell_type": "code",
   "execution_count": 12,
   "id": "3dd3d858",
   "metadata": {},
   "outputs": [
    {
     "data": {
      "text/plain": [
       "True"
      ]
     },
     "execution_count": 12,
     "metadata": {},
     "output_type": "execute_result"
    }
   ],
   "source": [
    "# or alternative syntax\n",
    "s_1 >= s_2"
   ]
  },
  {
   "cell_type": "markdown",
   "id": "8a74ba4a",
   "metadata": {},
   "source": [
    "Sets are *proper subsets*/*supersets* if all elements of one set are in the other but they are not equal"
   ]
  },
  {
   "cell_type": "code",
   "execution_count": 13,
   "id": "951748ad",
   "metadata": {},
   "outputs": [
    {
     "data": {
      "text/plain": [
       "True"
      ]
     },
     "execution_count": 13,
     "metadata": {},
     "output_type": "execute_result"
    }
   ],
   "source": [
    "s_2 < s_1"
   ]
  },
  {
   "cell_type": "code",
   "execution_count": 14,
   "id": "d52dd8a0",
   "metadata": {},
   "outputs": [
    {
     "name": "stdout",
     "output_type": "stream",
     "text": [
      "False\n",
      "True\n"
     ]
    }
   ],
   "source": [
    "print(s_2 < (s_1 - {'cat'}))\n",
    "# but\n",
    "print(s_2 <= (s_1 - {'cat'}))"
   ]
  },
  {
   "cell_type": "code",
   "execution_count": 15,
   "id": "403847e3",
   "metadata": {},
   "outputs": [
    {
     "data": {
      "text/plain": [
       "True"
      ]
     },
     "execution_count": 15,
     "metadata": {},
     "output_type": "execute_result"
    }
   ],
   "source": [
    "# check if element in set\n",
    "'cat' in s_1"
   ]
  },
  {
   "cell_type": "markdown",
   "id": "0c5da00f",
   "metadata": {},
   "source": [
    "A disjoint collection of sets that form $S$ are called *partitions* of $S$.  "
   ]
  },
  {
   "cell_type": "code",
   "execution_count": 16,
   "id": "0a240125",
   "metadata": {},
   "outputs": [
    {
     "name": "stdout",
     "output_type": "stream",
     "text": [
      "s_4 is disjoint s_5: True\n",
      "s_4 is disjoint s_6: True\n",
      "s_5 is disjoint s_6: True\n",
      "Thus these are all partitions of s_collection\n",
      "s_collection: {1, 2, 3, 4, 5, 6, 7, 8, 9}\n"
     ]
    }
   ],
   "source": [
    "s_4 = {1,2,3}\n",
    "s_5 = {4,5,6}\n",
    "s_6 = {7,8,9}\n",
    "\n",
    "print(\"s_4 is disjoint s_5:\", s_4.isdisjoint(s_5))\n",
    "print(\"s_4 is disjoint s_6:\", s_4.isdisjoint(s_6))\n",
    "print(\"s_5 is disjoint s_6:\", s_5.isdisjoint(s_6))\n",
    "\n",
    "print(\"Thus these are all partitions of s_collection\")\n",
    "s_collection = s_4.union(s_5).union(s_6)\n",
    "print(\"s_collection:\", s_collection)"
   ]
  },
  {
   "cell_type": "markdown",
   "id": "607bda58",
   "metadata": {},
   "source": [
    "#### Set operations"
   ]
  },
  {
   "cell_type": "markdown",
   "id": "413a7c37",
   "metadata": {},
   "source": [
    "We can perform operations on sets in order to obtain new sets from the given sets. In the following the major operations are outlined (union, interseaction, difference, symmetric difference, complement) with corresponding Venn diagrams."
   ]
  },
  {
   "cell_type": "code",
   "execution_count": 33,
   "id": "9267849a",
   "metadata": {},
   "outputs": [],
   "source": [
    "import vennfig as v\n",
    "set_a = {1,2,3}\n",
    "set_b = {3,4,5}"
   ]
  },
  {
   "cell_type": "code",
   "execution_count": 31,
   "id": "88207b36",
   "metadata": {},
   "outputs": [
    {
     "data": {
      "image/png": "[encoded data removed]",
      "text/plain": [
       "<Figure size 360x360 with 1 Axes>"
      ]
     },
     "metadata": {},
     "output_type": "display_data"
    }
   ],
   "source": [
    "# union\n",
    "v.or_nor(subs=2, size=5, fill_color='#919191', bg_color='#e8e8e8', \n",
    "    font_size=15, title_a='$A \\cup B$', set_a='A', set_b='B')"
   ]
  },
  {
   "cell_type": "code",
   "execution_count": 34,
   "id": "d84c0948",
   "metadata": {},
   "outputs": [
    {
     "data": {
      "text/plain": [
       "{1, 2, 3, 4, 5}"
      ]
     },
     "execution_count": 34,
     "metadata": {},
     "output_type": "execute_result"
    }
   ],
   "source": [
    "set_a.union(set_b)"
   ]
  },
  {
   "cell_type": "code",
   "execution_count": 30,
   "id": "80870b42",
   "metadata": {},
   "outputs": [
    {
     "data": {
      "image/png": "[encoded data removed]",
      "text/plain": [
       "<Figure size 360x360 with 1 Axes>"
      ]
     },
     "metadata": {},
     "output_type": "display_data"
    }
   ],
   "source": [
    "# intersection\n",
    "v.and_nand(subs=2, size=5, fill_color='#919191', bg_color='#e8e8e8', \n",
    "    font_size=15, title_a='$A \\cap B$', set_a='A', set_b='B')"
   ]
  },
  {
   "cell_type": "code",
   "execution_count": 35,
   "id": "ee94fc77",
   "metadata": {},
   "outputs": [
    {
     "data": {
      "text/plain": [
       "{3}"
      ]
     },
     "execution_count": 35,
     "metadata": {},
     "output_type": "execute_result"
    }
   ],
   "source": [
    "set_a.intersection(set_b)"
   ]
  },
  {
   "cell_type": "code",
   "execution_count": 29,
   "id": "838a1502",
   "metadata": {},
   "outputs": [
    {
     "data": {
      "image/png": "[encoded data removed]",
      "text/plain": [
       "<Figure size 360x360 with 1 Axes>"
      ]
     },
     "metadata": {},
     "output_type": "display_data"
    }
   ],
   "source": [
    "# difference\n",
    "v.a_b(subs=2, size=5, fill_color='#919191', bg_color='#e8e8e8', \n",
    "    font_size=15, title_a='$A - B$', set_a='A', set_b='B')"
   ]
  },
  {
   "cell_type": "code",
   "execution_count": 36,
   "id": "bc04e1e5",
   "metadata": {},
   "outputs": [
    {
     "data": {
      "text/plain": [
       "{1, 2}"
      ]
     },
     "execution_count": 36,
     "metadata": {},
     "output_type": "execute_result"
    }
   ],
   "source": [
    "set_a.difference(set_b)"
   ]
  },
  {
   "cell_type": "code",
   "execution_count": 32,
   "id": "5746d567",
   "metadata": {},
   "outputs": [
    {
     "data": {
      "image/png": "[encoded data removed]",
      "text/plain": [
       "<Figure size 360x360 with 1 Axes>"
      ]
     },
     "metadata": {},
     "output_type": "display_data"
    }
   ],
   "source": [
    "# symmetric difference (returns disjoint sets; XOR)\n",
    "v.xor_xnor(subs=2, size=5, fill_color='#919191', bg_color='#e8e8e8', \n",
    "    font_size=15, title_a='$A\\ or\\ B$', set_a='A', set_b='B')"
   ]
  },
  {
   "cell_type": "code",
   "execution_count": 37,
   "id": "a6944caa",
   "metadata": {},
   "outputs": [
    {
     "data": {
      "text/plain": [
       "{1, 2, 4, 5}"
      ]
     },
     "execution_count": 37,
     "metadata": {},
     "output_type": "execute_result"
    }
   ],
   "source": [
    "set_a.symmetric_difference(set_b)"
   ]
  },
  {
   "cell_type": "code",
   "execution_count": 27,
   "id": "0d32ae70",
   "metadata": {},
   "outputs": [
    {
     "data": {
      "image/png": "[encoded data removed]",
      "text/plain": [
       "<Figure size 360x360 with 1 Axes>"
      ]
     },
     "metadata": {},
     "output_type": "display_data"
    }
   ],
   "source": [
    "# complement\n",
    "v.complement(subs=2, size=5, fill_color='#919191', bg_color='#e8e8e8', \n",
    "    font_size=15, title_a='$Complement\\ A$', set_a='A', set_b=\"A'\")"
   ]
  },
  {
   "cell_type": "code",
   "execution_count": 40,
   "id": "5d173cde",
   "metadata": {},
   "outputs": [
    {
     "data": {
      "text/plain": [
       "{4, 5, 6, 7, 8, 9}"
      ]
     },
     "execution_count": 40,
     "metadata": {},
     "output_type": "execute_result"
    }
   ],
   "source": [
    "# given a universal set U that holds all possible elements we can define a custom python function\n",
    "# for the complement of A -> A'\n",
    "set_U = {1,2,3,4,5,6,7,8,9}\n",
    "\n",
    "def complement(a):\n",
    "    return set_U - a\n",
    "\n",
    "complement(set_a)"
   ]
  },
  {
   "cell_type": "markdown",
   "id": "45bfb796",
   "metadata": {},
   "source": [
    "From the above set comparisons through the used operations follow some important consequences, which we will summarize as follows:\n",
    "\n",
    "$$\n",
    "A \\cup B = B \\cup A \\\\\n",
    "A \\cup (B \\cup U) = (A \\cup B) \\cup U \\\\\n",
    "A \\cap (B \\cup U) = (A \\cap B) \\cup (A \\cap U) \\\\\n",
    "A \\cup (B \\cap U) = (A \\cup B) \\cap (A \\cup U) \\\\\n",
    "(A^c)^c = A \\\\\n",
    "A \\cap A^c = \\emptyset \\\\\n",
    "A \\cup \\Omega = \\Omega \\\\\n",
    "A \\cap \\Omega = A\n",
    "$$"
   ]
  },
  {
   "cell_type": "markdown",
   "id": "65cbae66",
   "metadata": {},
   "source": [
    "For exemplary purposes, let us verify the first ($A \\cup B = B \\cup A$) and third rule ($A \\cap (B \\cup U) = (A \\cap B) \\cup (A \\cap U)$) in a Python example:"
   ]
  },
  {
   "cell_type": "code",
   "execution_count": 57,
   "id": "d6024ec1",
   "metadata": {},
   "outputs": [
    {
     "data": {
      "text/plain": [
       "True"
      ]
     },
     "execution_count": 57,
     "metadata": {},
     "output_type": "execute_result"
    }
   ],
   "source": [
    "set_a = {'apple', 'banana'}\n",
    "set_b = {'apple', 'car'}\n",
    "\n",
    "set_a.union(set_b) == set_b.union(set_a)"
   ]
  },
  {
   "cell_type": "code",
   "execution_count": 61,
   "id": "361f126b",
   "metadata": {},
   "outputs": [
    {
     "data": {
      "text/plain": [
       "True"
      ]
     },
     "execution_count": 61,
     "metadata": {},
     "output_type": "execute_result"
    }
   ],
   "source": [
    "set_a = {'apple', 'banana', 'car'}\n",
    "set_b = {'apple', 'car'}\n",
    "set_u = {'car', 'peach'}\n",
    "\n",
    "set_a.intersection((set_b.union(set_u))) == (set_a.intersection(set_b)).union((set_a.intersection(set_u)))"
   ]
  },
  {
   "cell_type": "markdown",
   "id": "4437d933",
   "metadata": {},
   "source": [
    "#### Set modification"
   ]
  },
  {
   "cell_type": "markdown",
   "id": "c2d59816",
   "metadata": {},
   "source": [
    "In the following we will briefly demonstrate how sets can be modified in Python, as these methods can be useful when working with sets. First we will show updates of sets via the above mentioned methods (*union, intersectio, difference, symmetric difference*), followed by simple updates (*add, remove, discard, pop, clear*)."
   ]
  },
  {
   "cell_type": "markdown",
   "id": "5345ee36",
   "metadata": {},
   "source": [
    "Modification by **union**:"
   ]
  },
  {
   "cell_type": "code",
   "execution_count": 43,
   "id": "62f8c983",
   "metadata": {},
   "outputs": [
    {
     "name": "stdout",
     "output_type": "stream",
     "text": [
      "{'orange', 'banana', 'peach', 'apple'}\n",
      "{'orange', 'car', 'banana', 'truck', 'peach', 'apple'}\n"
     ]
    }
   ],
   "source": [
    "set_a = {'apple', 'banana', 'peach'}\n",
    "set_b = {'apple', 'banana', 'orange'}\n",
    "\n",
    "# operator syntax\n",
    "set_a |= set_b\n",
    "print(set_a)\n",
    "\n",
    "# method syntax\n",
    "set_a.update(['car', 'truck'])\n",
    "print(set_a)"
   ]
  },
  {
   "cell_type": "markdown",
   "id": "0db91e20",
   "metadata": {},
   "source": [
    "Modification by **intersection**:"
   ]
  },
  {
   "cell_type": "code",
   "execution_count": 46,
   "id": "834612cf",
   "metadata": {},
   "outputs": [
    {
     "name": "stdout",
     "output_type": "stream",
     "text": [
      "{'apple', 'banana'}\n",
      "{'apple'}\n"
     ]
    }
   ],
   "source": [
    "set_a = {'apple', 'banana', 'peach'}\n",
    "set_b = {'apple', 'banana', 'orange'}\n",
    "\n",
    "# operator syntax\n",
    "set_a &= set_b\n",
    "print(set_a)\n",
    "\n",
    "# method syntax\n",
    "set_a.intersection_update(['apple', 'truck'])\n",
    "print(set_a)"
   ]
  },
  {
   "cell_type": "markdown",
   "id": "3eff0cce",
   "metadata": {},
   "source": [
    "Modification by **difference**:"
   ]
  },
  {
   "cell_type": "code",
   "execution_count": 49,
   "id": "deffd292",
   "metadata": {},
   "outputs": [
    {
     "name": "stdout",
     "output_type": "stream",
     "text": [
      "{'peach'}\n",
      "set()\n"
     ]
    }
   ],
   "source": [
    "set_a = {'apple', 'banana', 'peach'}\n",
    "set_b = {'apple', 'banana', 'orange'}\n",
    "\n",
    "# operator syntax\n",
    "set_a -= set_b\n",
    "print(set_a)\n",
    "\n",
    "# method syntax\n",
    "set_a.difference_update(['peach', 'truck'])\n",
    "print(set_a) # removes left element as well (peach)"
   ]
  },
  {
   "cell_type": "markdown",
   "id": "b9f7c353",
   "metadata": {},
   "source": [
    "Modification by symmetric **difference**:"
   ]
  },
  {
   "cell_type": "code",
   "execution_count": 50,
   "id": "e35bd2cd",
   "metadata": {},
   "outputs": [
    {
     "name": "stdout",
     "output_type": "stream",
     "text": [
      "{'orange', 'peach'}\n",
      "{'orange', 'truck', 'peach', 'apple'}\n"
     ]
    }
   ],
   "source": [
    "set_a = {'apple', 'banana', 'peach'}\n",
    "set_b = {'apple', 'banana', 'orange'}\n",
    "\n",
    "# operator syntax\n",
    "set_a ^= set_b\n",
    "print(set_a)\n",
    "\n",
    "# method syntax\n",
    "set_a.symmetric_difference_update(['apple', 'truck'])\n",
    "print(set_a)"
   ]
  },
  {
   "cell_type": "markdown",
   "id": "759d611e",
   "metadata": {},
   "source": [
    "**Simple update methods**:"
   ]
  },
  {
   "cell_type": "code",
   "execution_count": 51,
   "id": "536ac85a",
   "metadata": {},
   "outputs": [
    {
     "data": {
      "text/plain": [
       "{'apple', 'banana', 'orange', 'peach'}"
      ]
     },
     "execution_count": 51,
     "metadata": {},
     "output_type": "execute_result"
    }
   ],
   "source": [
    "# add element to set\n",
    "set_a = {'apple', 'banana', 'peach'}\n",
    "set_a.add('orange')\n",
    "set_a"
   ]
  },
  {
   "cell_type": "code",
   "execution_count": 53,
   "id": "58ed8add",
   "metadata": {},
   "outputs": [
    {
     "name": "stdout",
     "output_type": "stream",
     "text": [
      "{'apple', 'banana'}\n"
     ]
    },
    {
     "ename": "KeyError",
     "evalue": "'car'",
     "output_type": "error",
     "traceback": [
      "\u001b[0;31m---------------------------------------------------------------------------\u001b[0m",
      "\u001b[0;31mKeyError\u001b[0m                                  Traceback (most recent call last)",
      "\u001b[0;32m<ipython-input-53-441dc2bea1f3>\u001b[0m in \u001b[0;36m<module>\u001b[0;34m\u001b[0m\n\u001b[1;32m      4\u001b[0m \u001b[0mprint\u001b[0m\u001b[0;34m(\u001b[0m\u001b[0mset_a\u001b[0m\u001b[0;34m)\u001b[0m\u001b[0;34m\u001b[0m\u001b[0;34m\u001b[0m\u001b[0m\n\u001b[1;32m      5\u001b[0m \u001b[0;31m# raises exception if element not in set\u001b[0m\u001b[0;34m\u001b[0m\u001b[0;34m\u001b[0m\u001b[0;34m\u001b[0m\u001b[0m\n\u001b[0;32m----> 6\u001b[0;31m \u001b[0mset_a\u001b[0m\u001b[0;34m.\u001b[0m\u001b[0mremove\u001b[0m\u001b[0;34m(\u001b[0m\u001b[0;34m'car'\u001b[0m\u001b[0;34m)\u001b[0m\u001b[0;34m\u001b[0m\u001b[0;34m\u001b[0m\u001b[0m\n\u001b[0m",
      "\u001b[0;31mKeyError\u001b[0m: 'car'"
     ]
    }
   ],
   "source": [
    "# remove element from set\n",
    "set_a = {'apple', 'banana', 'peach'}\n",
    "set_a.remove('peach')\n",
    "print(set_a)\n",
    "# raises exception if element not in set\n",
    "set_a.remove('car')"
   ]
  },
  {
   "cell_type": "code",
   "execution_count": 54,
   "id": "2ec340e9",
   "metadata": {},
   "outputs": [
    {
     "name": "stdout",
     "output_type": "stream",
     "text": [
      "{'peach', 'apple', 'banana'}\n"
     ]
    }
   ],
   "source": [
    "# discard element from set\n",
    "set_a = {'apple', 'banana', 'peach'}\n",
    "set_a.discard('orange')\n",
    "print(set_a)\n",
    "# same behavior as remove() but no exception raised if element not in set\n",
    "set_a.discard('car')"
   ]
  },
  {
   "cell_type": "code",
   "execution_count": 55,
   "id": "7ec60367",
   "metadata": {},
   "outputs": [
    {
     "data": {
      "text/plain": [
       "{'apple', 'banana'}"
      ]
     },
     "execution_count": 55,
     "metadata": {},
     "output_type": "execute_result"
    }
   ],
   "source": [
    "# pop() removes random element from set\n",
    "set_a = {'apple', 'banana', 'peach'}\n",
    "set_a.pop()\n",
    "set_a"
   ]
  },
  {
   "cell_type": "code",
   "execution_count": 56,
   "id": "67d7dfca",
   "metadata": {},
   "outputs": [
    {
     "data": {
      "text/plain": [
       "set()"
      ]
     },
     "execution_count": 56,
     "metadata": {},
     "output_type": "execute_result"
    }
   ],
   "source": [
    "# clear all elements from set\n",
    "set_a = {'apple', 'banana', 'peach'}\n",
    "set_a.clear()\n",
    "set_a"
   ]
  }
 ],
 "metadata": {
  "kernelspec": {
   "display_name": "Python 3",
   "language": "python",
   "name": "python3"
  },
  "language_info": {
   "codemirror_mode": {
    "name": "ipython",
    "version": 3
   },
   "file_extension": ".py",
   "mimetype": "text/x-python",
   "name": "python",
   "nbconvert_exporter": "python",
   "pygments_lexer": "ipython3",
   "version": "3.6.9"
  }
 },
 "nbformat": 4,
 "nbformat_minor": 5
}
