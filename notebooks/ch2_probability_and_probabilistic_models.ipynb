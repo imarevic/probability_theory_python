{
 "cells": [
  {
   "cell_type": "markdown",
   "id": "60666f71",
   "metadata": {},
   "source": [
    "## Probability and Probabilistic Models"
   ]
  },
  {
   "cell_type": "markdown",
   "id": "863b063a",
   "metadata": {},
   "source": [
    "xy"
   ]
  },
  {
   "cell_type": "markdown",
   "id": "4a0a0f2c",
   "metadata": {},
   "source": [
    "#### XY"
   ]
  },
  {
   "cell_type": "markdown",
   "id": "33b542a2",
   "metadata": {},
   "source": []
  },
  {
   "cell_type": "code",
   "execution_count": null,
   "id": "3b726eac",
   "metadata": {},
   "outputs": [],
   "source": [
    "# what is probability model (theory)\n",
    "# definition of sample space and events (python example with special cases (importance of order of events))\n",
    "# sequential models (python example from internet)\n",
    "# probability laws (theory with checks in Python)\n",
    "# discrete models wit python examples\n",
    "    # discrete probability law\n",
    "    # discrete uniform probability law\n",
    "# continous models with python examples\n",
    "    # properties of probability laws (checks in python)\n",
    "# Probability models in application\n",
    "    # outline steps"
   ]
  },
  {
   "cell_type": "code",
   "execution_count": null,
   "id": "742213f4",
   "metadata": {},
   "outputs": [],
   "source": []
  },
  {
   "cell_type": "code",
   "execution_count": null,
   "id": "40fea82d",
   "metadata": {},
   "outputs": [],
   "source": []
  },
  {
   "cell_type": "code",
   "execution_count": null,
   "id": "a14a158b",
   "metadata": {},
   "outputs": [],
   "source": []
  },
  {
   "cell_type": "code",
   "execution_count": null,
   "id": "2c65eda2",
   "metadata": {},
   "outputs": [],
   "source": []
  },
  {
   "cell_type": "code",
   "execution_count": null,
   "id": "dc6bce59",
   "metadata": {},
   "outputs": [],
   "source": []
  }
 ],
 "metadata": {
  "kernelspec": {
   "display_name": "Python 3",
   "language": "python",
   "name": "python3"
  },
  "language_info": {
   "codemirror_mode": {
    "name": "ipython",
    "version": 3
   },
   "file_extension": ".py",
   "mimetype": "text/x-python",
   "name": "python",
   "nbconvert_exporter": "python",
   "pygments_lexer": "ipython3",
   "version": "3.6.9"
  }
 },
 "nbformat": 4,
 "nbformat_minor": 5
}
